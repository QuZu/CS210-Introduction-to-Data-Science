{
  "nbformat": 4,
  "nbformat_minor": 0,
  "metadata": {
    "colab": {
      "name": "Kuzu_Enismert_hw1",
      "provenance": [],
      "collapsed_sections": []
    },
    "kernelspec": {
      "name": "python3",
      "display_name": "Python 3"
    }
  },
  "cells": [
    {
      "cell_type": "markdown",
      "metadata": {
        "id": "JD9gUM7WW8iT"
      },
      "source": [
        "# Homework 1 - Practicing Python\n",
        "\n",
        "\n",
        "*In the first homework, you are going to work on a set of Python exercises.*\n",
        "\n",
        "**Submission Instructions**\n",
        "\n",
        "---\n",
        "It is important that you follow the submission instructions. \n",
        "1. Copy this assignment notebook to your Drive. <font color = 'red'> `File` --> `Save a copy in Drive`</font>. Rename it as <font color = 'green'>`Lastname_Firstname_hw1`</font>.\n",
        "\n",
        "2. Write your solutions in the cells  marked <font color = 'green'>`# your code`</font>.\n",
        "\n",
        "3. Do not delete your outputs. They are essential for the grading. Make sure that cells containing your solutions are executed, and the results are displayed on the notebook.\n",
        "\n",
        "4. When you're done please submit your solutions as an <font color=\"red\">`.ipynb`</font> file. To do so:\n",
        "\n",
        "\n",
        "  a. Click on <font color=\"red\">`File`</font>  at the top left on the Colab screen, then click on <font color = 'red'>`Download .ipynb`</font>.\n",
        "\n",
        "  b. Then submit the downloaded <font color=\"red\">`.ipynb`</font> version of your work on SUCourse.\n",
        "\n",
        "\n",
        "For any question, you may send an email to the TAs and LAs.\n",
        "\n",
        "---\n",
        "\n",
        "**Important Note:**   \n",
        "In this homework, you do not need to use any libraries than the built-in ones. Hence, you are not allowed to use any libraries, other than the [`pprint`](https://docs.python.org/3/library/pprint.html) library to produce better looking outputs. If you have doubt on what to use what not to use please ask your question in the SuCourse Homework Q&A forum."
      ]
    },
    {
      "cell_type": "markdown",
      "metadata": {
        "id": "rYfw-eaiBOBJ"
      },
      "source": [
        "## 15 points - Q1: Find the Office Hour, Given the TA\n",
        "\n",
        "In the cell below, you have three lists containing the TA names and their day of office hour in the same order.\n",
        "\n",
        "Here, your goal is to write a fuction named `TA_day` that will return the day and hour of a particular TA. E.g.,\n",
        "\n",
        "```py\n",
        ">>> TA_day(TA_name='Ozgur Can Seckin')\n",
        "Tuesday, 17:40-18:30\n",
        "```\n",
        "\n",
        "After defining your function as such, please find the day and hour for **Mutlu Soruklu**"
      ]
    },
    {
      "cell_type": "code",
      "metadata": {
        "id": "_RCO6nIyEpv1"
      },
      "source": [
        "TA_names = ['Ege Alpay', 'Hasan Alp Boz', 'Mutlu Soruklu', 'Ozgur Can Seckin']\n",
        "office_days = ['Friday', 'Tuesday', 'Monday', 'Tuesday']\n",
        "office_hours = ['18:40 - 19:30', '9:40-10:30', '17:40 - 18:30', '17:40 - 18:30']"
      ],
      "execution_count": null,
      "outputs": []
    },
    {
      "cell_type": "code",
      "metadata": {
        "id": "VsigiNj3FzgF",
        "colab": {
          "base_uri": "https://localhost:8080/",
          "height": 36
        },
        "outputId": "0c8358a4-bde0-4d09-f34f-4c370c6627d6"
      },
      "source": [
        "# your code\n",
        "def TA_day(TA_name):\n",
        "  index=0\n",
        "  result=\"\"\n",
        "  for i in range(len(TA_names)):\n",
        "    if TA_names[i]==TA_name:\n",
        "      index=i\n",
        "      break\n",
        "  day=office_days[index]\n",
        "  hour=office_hours[index]\n",
        "  result=day +\", \"+hour\n",
        "  return result\n",
        "TA_day(\"Mutlu Soruklu\")"
      ],
      "execution_count": null,
      "outputs": [
        {
          "output_type": "execute_result",
          "data": {
            "application/vnd.google.colaboratory.intrinsic+json": {
              "type": "string"
            },
            "text/plain": [
              "'Monday, 17:40 - 18:30'"
            ]
          },
          "metadata": {},
          "execution_count": 13
        }
      ]
    },
    {
      "cell_type": "markdown",
      "metadata": {
        "id": "DwskSV1dAeoR"
      },
      "source": [
        "## 30 points - Q2: Inflation Rates\n",
        "\n",
        "Inflation rates measured by consumer price index for 38 distinct countries and OECD average were taken from:\n",
        "https://data.oecd.org/price/inflation-cpi.htm\n",
        "\n",
        "Each line stores the country name, year and related inflation rate, seperated by a **semicolon**.\n",
        "\n",
        "In total, we have 195 lines where the inflation rates are given for years between 2016 and 2020.\n",
        "\n",
        "\n",
        "<img src=\"https://i.ibb.co/bBzypPS/Q2-OECD.png\"></img>\n",
        "\n",
        "*Do not forget to add the shared file and then mount to your drive. Otherwise, you won't be able to read the file. If you do not know how, please go back to Week 1 videos.*\n",
        "\n",
        "**Attention: You may want to transform the string to numbers by using float() function**"
      ]
    },
    {
      "cell_type": "markdown",
      "metadata": {
        "id": "EJdIEenmj6W_"
      },
      "source": [
        "### 15 points - **Part A**\n",
        "In this part, you should - by using the inflation_data.csv file under assignment folder:\n",
        "1. Find the **mean inflation rates** for Turkey and Germany (denoted as TUR and DEU in the data, respectively) between years 2016 and 2020 and print the results.\n",
        "2. Calculate the **difference between means** and print the result.\n",
        "\n",
        "![](https://i.ibb.co/L0JTk8V/Q2-OECD.png)"
      ]
    },
    {
      "cell_type": "code",
      "metadata": {
        "id": "tbaryKClTz5Z",
        "colab": {
          "base_uri": "https://localhost:8080/"
        },
        "outputId": "04772c97-fd93-486b-8d1a-ee0a1603fb1a"
      },
      "source": [
        "from google.colab import drive\n",
        "drive.mount(\"./drive/\", force_remount=True)"
      ],
      "execution_count": null,
      "outputs": [
        {
          "output_type": "stream",
          "name": "stdout",
          "text": [
            "Mounted at ./drive/\n"
          ]
        }
      ]
    },
    {
      "cell_type": "code",
      "metadata": {
        "id": "NnRDeA3_SPi0",
        "colab": {
          "base_uri": "https://localhost:8080/"
        },
        "outputId": "cb4a2d11-5beb-44e9-92c8-81fb88b9d5e0"
      },
      "source": [
        "# your code\n",
        "from os.path import join\n",
        "path_prefix = \"./drive/My Drive\"\n",
        "fname=\"inflation_data.csv\"\n",
        "with open(join(path_prefix, fname), \"r\") as f:\n",
        "  turkey_sum=0\n",
        "  germany_sum=0\n",
        "  for line in f:\n",
        "    strip_line=line.strip().split(\";\")\n",
        "    if strip_line[0]==\"TUR\":\n",
        "      turkey_sum+=float(strip_line[2].replace(\",\",\".\"))\n",
        "    if strip_line[0]==\"DEU\":\n",
        "      germany_sum+=float(strip_line[2].replace(\",\",\".\"))\n",
        "  mean_turkey=float(turkey_sum)/5\n",
        "  mean_germany=float(germany_sum)/5\n",
        "  difference_means=mean_turkey-mean_germany\n",
        "  print(\"Mean for Turkey: \",mean_turkey)\n",
        "  print(\"Mean for Germany: \",mean_germany)\n",
        "  print(\"Difference between means of Turkey and Germany:\",difference_means)\n"
      ],
      "execution_count": 19,
      "outputs": [
        {
          "output_type": "stream",
          "name": "stdout",
          "text": [
            "Mean for Turkey:  12.5415368\n",
            "Mean for Germany:  1.1371541\n",
            "Difference between means of Turkey and Germany: 11.4043827\n"
          ]
        }
      ]
    },
    {
      "cell_type": "markdown",
      "metadata": {
        "id": "pIBUWMoXSSwr"
      },
      "source": [
        "### 15 points - **Part B**\n",
        "\n",
        "Find the country with the minimum mean inflation rate (note that it might be negative!)\n",
        "\n",
        "![](https://i.ibb.co/hBsTWvs/Q2-OECD-2.png)"
      ]
    },
    {
      "cell_type": "code",
      "metadata": {
        "id": "laBFy2HkSXpC",
        "colab": {
          "base_uri": "https://localhost:8080/"
        },
        "outputId": "bd5d1c65-5510-4664-8058-25c0005a7536"
      },
      "source": [
        "# your code\n",
        "from os.path import join\n",
        "path_prefix = \"./drive/My Drive\"\n",
        "fname=\"inflation_data.csv\"\n",
        "with open(join(path_prefix, fname), \"r\") as f:\n",
        "  country=[]\n",
        "  country_sum_inf=[]\n",
        "  for line in f:\n",
        "    line_strip=line.strip().split(\";\")\n",
        "    if line_strip[0] not in country:\n",
        "      country.append(line_strip[0])\n",
        "      country_sum_inf.append(float(line_strip[2].replace(\",\",\".\")))\n",
        "    else:\n",
        "      for i in range(len(country)):\n",
        "        if country[i]==line_strip[0]:\n",
        "          country_sum_inf[i]+=float(line_strip[2].replace(\",\",\".\"))\n",
        "  index_country=0\n",
        "  min_mean_inf=float(country_sum_inf[0]) /5\n",
        "  for i in range(len(country_sum_inf)):\n",
        "    if float(country_sum_inf[i]) /5 <= min_mean_inf:\n",
        "      min_mean_inf=float(country_sum_inf[i]) /5\n",
        "      index_country=i\n",
        "  print(country[index_country],\"is the country that has the minimum mean inflation rate with\",min_mean_inf)"
      ],
      "execution_count": null,
      "outputs": [
        {
          "output_type": "stream",
          "name": "stdout",
          "text": [
            "GRC is the country that has the minimum mean inflation rate with -0.014751480000000016\n"
          ]
        }
      ]
    },
    {
      "cell_type": "markdown",
      "metadata": {
        "id": "srIzF7eJYUAW"
      },
      "source": [
        "## 25 points - Q3: Transposing a List of Lists\n",
        "\n",
        "List/array reshaping is one of the most fundamental operations in data manipulation. In the figure below, you see a 4x3 dimensional list of lists (a list that contains lists) named `arr` that has integers from 1 to 12. We can take the transpose of this 4x3 list and transform it into a 3x4 list. \n",
        "\n",
        "![](https://i.ibb.co/K7CXTZX/Q3-transposed.png)\n",
        "\n",
        "By referencing the figure above, write a function named `transpose` which will take the transpose of the desired matrix. At the end, it should return the resulting matrix.\n",
        "\n",
        "```py\n",
        ">>> arr = [[1, 2, 3, 4], [5, 6, 7, 8], [9, 10, 11, 12]]\n",
        ">>> transpose(arr)\n",
        "[[1, 5, 9], [2, 6, 10], [3, 7, 11], [4, 8, 12]]\n",
        "```\n",
        "\n",
        "If the given list of lists does not represent a proper matrix (e.g., [[1,2], [3,4,5]] then, it should return \"Not a proper matrix\"\n",
        "\n",
        "```py\n",
        ">>> arr = [[1, 2, 3], [5, 6]]\n",
        ">>> transpose(arr)\n",
        "\"Not a proper matrix\"\n",
        "```"
      ]
    },
    {
      "cell_type": "code",
      "metadata": {
        "id": "iZgKbmvbZM61",
        "colab": {
          "base_uri": "https://localhost:8080/"
        },
        "outputId": "9ec599a4-8305-42e7-cd42-86e963dcc6a8"
      },
      "source": [
        "arr = [[1, 2, 3, 4], [5, 6, 7, 8], [9, 10, 11, 12]]\n",
        "\n",
        "\n",
        "# your code\n",
        "def transpose(arr):\n",
        "  rows=len(arr[0])\n",
        "  for i in range(len(arr)):\n",
        "    if len(arr[i]) !=rows:\n",
        "      return \"Not a proper matrix\"\n",
        "  column=len(arr)\n",
        "  newmatrix=[[] for i in range(rows)]\n",
        "  k=0\n",
        "  while (k !=rows):\n",
        "    for i in range(column):\n",
        "      newmatrix[k].append(arr[i][k])\n",
        "    k+=1\n",
        "  return newmatrix\n",
        "transpose(arr)"
      ],
      "execution_count": 21,
      "outputs": [
        {
          "output_type": "execute_result",
          "data": {
            "text/plain": [
              "[[1, 5, 9], [2, 6, 10], [3, 7, 11], [4, 8, 12]]"
            ]
          },
          "metadata": {},
          "execution_count": 21
        }
      ]
    },
    {
      "cell_type": "markdown",
      "metadata": {
        "id": "_0FzjI4Li18J"
      },
      "source": [
        "## 30 points - Q4: Most Frequent Bigram in a File\n",
        "\n",
        "`A pair of consecutive written words is called a bigram. For instance, if we were to find the bigrams in the sentence \"The quick brown fox jumps over the lazy dog.\", we would get [\"The quick\", \"quick brown\", \"brown fox\", ... \"the lazy\", \"lazy dog.\"]`\n",
        "\n",
        "In the assignment folder, you have a file named `best_song.txt` which stores the lyrics to the best song ever written by anyone:\n",
        "https://i.ibb.co/cb4B8sy/best-song.jpg\n",
        "\n",
        "Write a function named `most_used_bigram` which will take a file name as its single parameter and then reads and returns the **most frequently used bigram** and **how many times it has occurred** in the text.\n",
        "\n",
        "```py\n",
        ">>> most_used, times_used = most_used_bigram(\"best_song.txt\")\n",
        "```\n",
        "\n",
        "*Do not forget to add the shared file and then mount to your drive. Otherwise, you won't be able to read the file.*"
      ]
    },
    {
      "cell_type": "code",
      "metadata": {
        "id": "DEQOU3viZAfj",
        "colab": {
          "base_uri": "https://localhost:8080/"
        },
        "outputId": "67958f55-efaa-420c-a44c-d7ac9d0e8b27"
      },
      "source": [
        "# Your code\n",
        "def most_used_bigram(fname):\n",
        "  with open(join(path_prefix, fname), \"r\") as f:\n",
        "    word_list=[]\n",
        "    for line in f:\n",
        "      strip_l=line.strip().split(\" \")\n",
        "      for i in range(len(strip_l)):\n",
        "        word_list.append(strip_l[i])\n",
        "    result_list=[]\n",
        "    occur_list=[]\n",
        "    for i in range(len(word_list)-1):\n",
        "      biagrams=word_list[i] + \" \"+ word_list[i+1]\n",
        "      result_list.append(biagrams)\n",
        "    for i in range(len(result_list)):\n",
        "      occur_list.append(0)\n",
        "    for j in range(len(result_list)):\n",
        "      for biag in result_list:\n",
        "        if result_list[j]==biag:\n",
        "          occur_list[j]+=1\n",
        "    max_occur=0\n",
        "    index_of_biag=0\n",
        "    for i in range(len(occur_list)):\n",
        "      if max_occur <= occur_list[i]:\n",
        "        max_occur=occur_list[i]\n",
        "        index_of_biag=i\n",
        "  return result_list[index_of_biag],max_occur\n",
        "from os.path import join\n",
        "path_prefix = \"./drive/My Drive\"\n",
        "fname=\"best_song.txt\"\n",
        "most_used, times_used = most_used_bigram(\"best_song.txt\")\n",
        "most_used_bigram(\"best_song.txt\")"
      ],
      "execution_count": 23,
      "outputs": [
        {
          "output_type": "execute_result",
          "data": {
            "text/plain": [
              "('Never gonna', 36)"
            ]
          },
          "metadata": {},
          "execution_count": 23
        }
      ]
    }
  ]
}
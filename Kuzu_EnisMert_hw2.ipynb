{
  "nbformat": 4,
  "nbformat_minor": 0,
  "metadata": {
    "colab": {
      "name": "Kuzu_EnisMert_hw2.ipynb",
      "provenance": [],
      "collapsed_sections": []
    },
    "kernelspec": {
      "name": "python3",
      "display_name": "Python 3"
    }
  },
  "cells": [
    {
      "cell_type": "markdown",
      "metadata": {
        "id": "JD9gUM7WW8iT"
      },
      "source": [
        "# Homework 2 - Data Wrangling\n",
        "\n",
        "\n",
        "*In this homework, you are going to work on a real-world dataset and perform some data transformations. We suggest you start the homework early.*\n",
        "\n",
        "**Submission Instructions**\n",
        "\n",
        "---\n",
        "It is important that you follow the submission instructions. \n",
        "1. Copy this assignment notebook to your Drive. <font color = 'red'> `File` --> `Save a copy in Drive`</font>. Rename it as <font color = 'green'>`Lastname_Firstname_hw2`</font>.\n",
        "\n",
        "2. Write your solutions in the cells  marked as <font color = 'green'>`# your code`</font>.\n",
        "\n",
        "3. **Do not delete your outputs**. They are essential for the grading. Make sure that cells containing your solutions are executed, and the results are displayed on the notebook.\n",
        "\n",
        "4. When you're done please submit your solutions as an <font color=\"red\">`.ipynb`</font> file. To do so:\n",
        "\n",
        "\n",
        "  a. Click on <font color=\"red\">`File`</font>  at the top left on the Colab screen, then click on <font color = 'red'>`Download .ipynb`</font>.\n",
        "\n",
        "  b. Then submit the downloaded <font color=\"red\">`.ipynb`</font> version of your work on SUCourse.\n",
        "\n",
        "\n",
        "For any question, please use the discussion page on Sucourse.\n",
        "\n",
        "---\n",
        "\n",
        "**Important Note: In this homework, you are not allowed to use Pandas.**"
      ]
    },
    {
      "cell_type": "code",
      "metadata": {
        "id": "pNfT6vfYaJdL",
        "colab": {
          "base_uri": "https://localhost:8080/"
        },
        "outputId": "9ff6d078-4a61-48c8-abdb-26182e8acdad"
      },
      "source": [
        "from google.colab import drive\n",
        "drive.mount('./drive', force_remount=True)\n",
        "\n",
        "path_prefix = './drive/My Drive'"
      ],
      "execution_count": null,
      "outputs": [
        {
          "output_type": "stream",
          "name": "stdout",
          "text": [
            "Mounted at ./drive\n"
          ]
        }
      ]
    },
    {
      "cell_type": "code",
      "metadata": {
        "id": "YBCzbwaj4d5O"
      },
      "source": [
        "import numpy as np\n",
        "import matplotlib.pyplot as plt\n",
        "from os.path import join\n",
        "import re\n",
        "\n",
        "%matplotlib inline"
      ],
      "execution_count": null,
      "outputs": []
    },
    {
      "cell_type": "markdown",
      "metadata": {
        "id": "CDbkvQOd-JUt"
      },
      "source": [
        "## Social Distancing in Venezuela\n",
        "\n",
        "Governments across the globe imposed various NPIs (nonpharmaceutical interventions) to limit the mobility of masses and foster social distancing to prevent more infections. In Venezuela, a survey is conducted to collect public opionion on the impacts of COVID-19, which also captures the tendency to adhere to social distancing rules in public. You may read more about the data in detail from the link below.\n",
        "\n",
        "https://data.humdata.org/dataset/open_one_time_covid_impact\n",
        "\n",
        "In this homework, you are going to be working on a small sample from the original data, `venezuela_covid_impact_soc_dist.csv`, that focuses on social distancing, in which the following fields are stored:\n",
        "\n",
        "```\n",
        "'submission_id', 'submission_date', 'gender', 'age', 'education', 'how_likely_to_social_distance_when_out_in_public'\n",
        "```\n",
        "\n",
        "The first five rows of the file can be viewed below:\n",
        "\n",
        "```\n",
        "submission_id,submission_date,gender,age,education,how_likely_to_social_distance_when_out_in_public\n",
        "4621122344845312,2020   12 26  ,Male,26 to 35 years old,University or college degree completed,Very likely\n",
        "5073314990260224,<li>2020 12 10</li>,Male,16 to 25 years old,Some secondary school / high school,Neither likely nor unlikely\n",
        "5703966068572160,  2020----11++++ 19,Female,36 to 45 years old,Some university or college,Very likely\n",
        "5782300156755968,2020   12 07  ,Male,16 to 25 years old,Secondary/high school,Unlikely\n",
        "\n",
        "```\n",
        "\n",
        "** **Do not forget to add the shared file 'venezuela_covid_impact_soc_dist.csv' to your own drive.** **"
      ]
    },
    {
      "cell_type": "markdown",
      "metadata": {
        "id": "6hlYX4icW1U9"
      },
      "source": [
        "### Q1 - Read the Dataset\n",
        "\n",
        "In the provided dataset, entries are separated by commas. Read and store the file as a 2d numpy array in which columns capture the corresponding fields.\n",
        "\n",
        "- Read the given file into a numpy array.\n",
        "- At the end, print the number of rows and columns.\n",
        "\n",
        "```\n",
        "Number of rows: [...], columns: [...]\n",
        "```\n",
        "\n",
        "*Hint: Do not forget to skip the first line (the header).*"
      ]
    },
    {
      "cell_type": "code",
      "metadata": {
        "colab": {
          "base_uri": "https://localhost:8080/"
        },
        "id": "Lmy0O-ifsoW7",
        "outputId": "b2483e08-3930-43af-88a8-7155210c452e"
      },
      "source": [
        "# your code\n",
        "fname=\"venezuela_covid_impact_soc_dist.csv\"\n",
        "data=[]\n",
        "row=0\n",
        "with open(join(path_prefix, fname), \"r\") as f:\n",
        "  for line in f:\n",
        "    strip_line=line.strip().split(\",\")\n",
        "    if row==0:\n",
        "      columns=len(strip_line)\n",
        "      row+=1\n",
        "    else:\n",
        "      row+=1\n",
        "      data.append(strip_line)\n",
        "array_data=np.array(data)\n",
        "array_data.reshape(row-1,columns)\n",
        "print(\"Number of rows: \"+\"[\"+ str(row-1)+\"] columns: \"+\"[\"+str(columns) +\"]\")"
      ],
      "execution_count": null,
      "outputs": [
        {
          "output_type": "stream",
          "name": "stdout",
          "text": [
            "Number of rows: [7341] columns: [6]\n"
          ]
        }
      ]
    },
    {
      "cell_type": "markdown",
      "metadata": {
        "id": "5hZw2gobH0Fy"
      },
      "source": [
        "### Q2 - Cleaning Date Values\n",
        "\n",
        "During the data collection process, most of the date values were registered with *non-numeric* rubbish characters between the date elements due to a glitch in the system. Some of the examples can be seen below where %Y represents years (e.g. 2021, 2020), %m month as a zero-padded decimal number (e.g. 07, 08) and %d day of the month as a zero-padded decimal number (e.g. 01, 03).\n",
        "\n",
        "```\n",
        "'%Y   %m %d', \n",
        "'  %Y----%m++++ %d', \n",
        "'<li>%Y %m %d</li>', \n",
        "'%Y /||\\ %m %d  ', \n",
        "'<<%Y  %m >> %d'\n",
        "```\n",
        "\n",
        "- You may assume that the order of date elements is always the same in the raw data: %Y %m %d.\n",
        "- Extract the actual date entries from the data. We expect you to use regular expressions for this part.\n",
        "- Rearrange the date values as **'%d-%m-%Y'** in the data (separate them with hypen -).\n",
        "- At the end, print the first three instances of the resulting dates as a list.\n",
        "\n",
        "```\n",
        "['26-12-2020' '10-12-2020' '19-11-2020']\n",
        "```"
      ]
    },
    {
      "cell_type": "code",
      "metadata": {
        "id": "qRJ3r8-vcp3S",
        "colab": {
          "base_uri": "https://localhost:8080/"
        },
        "outputId": "7220eab3-5f0f-4308-e7aa-7fa037d825ac"
      },
      "source": [
        "# your code\n",
        "for line in array_data:\n",
        "  w_date=line[1]\n",
        "  digit_date=re.findall(\"\\d\",w_date)\n",
        "  y=digit_date[0]+digit_date[1]+digit_date[2]+digit_date[3]\n",
        "  m=digit_date[4]+digit_date[5]\n",
        "  d=digit_date[6]+digit_date[7]\n",
        "  new_date=d+\"-\"+m+\"-\"+y\n",
        "  line[1]=new_date\n",
        "f_three=[]\n",
        "a=0\n",
        "for newlines in array_data:\n",
        "  if a!=3:\n",
        "    f_three.append(newlines[1])\n",
        "    a+=1\n",
        "  else:\n",
        "    break\n",
        "print(f_three)\n",
        "  "
      ],
      "execution_count": null,
      "outputs": [
        {
          "output_type": "stream",
          "name": "stdout",
          "text": [
            "['26-12-2020', '10-12-2020', '19-11-2020']\n"
          ]
        }
      ]
    },
    {
      "cell_type": "markdown",
      "metadata": {
        "id": "WkVsm6IHq1Z_"
      },
      "source": [
        "### Q3 - Drop Duplicate Rows\n",
        "\n",
        "As mentioned above, some problems took place during the data collection process and we are suspecting a case of data duplication. In fact, it turns out that there are rows with duplicates in the data. An excerpt from the file can be seen below:\n",
        "\n",
        "```\n",
        "5907953602527232,01-08-2021,Not Available,Not Available,Not Available,Not available,Not Available,Agree,Very likely\n",
        "5907953602527232,01-08-2021,Not Available,Not Available,Not Available,Not available,Not Available,Agree,Very likely\n",
        "5520514392260608,11-16-2020,Female,36 to 45 years old,\"I can afford food, but nothing else\",Secondary school/ high school completed,I am unemployed,Agree,Very likely\n",
        "```\n",
        "\n",
        "- Remove the duplicate rows from the array so that only unique entries are left.\n",
        "- At the end, print the total number of rows in the data after the duplicate removal.\n",
        "\n",
        "```\n",
        "Number of rows after duplicate removal: [...]\n",
        "```"
      ]
    },
    {
      "cell_type": "code",
      "metadata": {
        "id": "Il2yjtDyq7Rv",
        "colab": {
          "base_uri": "https://localhost:8080/"
        },
        "outputId": "a976f480-11db-4c3d-e13d-2a6f034e2473"
      },
      "source": [
        "# your code\n",
        "new_array=[]\n",
        "for row in array_data:\n",
        "  newrow=[row[0],row[1],row[2],row[3],row[4],row[5]]\n",
        "  if newrow not in new_array:\n",
        "    new_array.append(newrow)\n",
        "uniques=np.array(new_array)\n",
        "print(\"Number of rows after duplicate removal: \"+\"[\"+str(len(uniques))+\"]\")\n"
      ],
      "execution_count": null,
      "outputs": [
        {
          "output_type": "stream",
          "name": "stdout",
          "text": [
            "Number of rows after duplicate removal: [7042]\n"
          ]
        }
      ]
    },
    {
      "cell_type": "markdown",
      "metadata": {
        "id": "Cv9dk7AefEyd"
      },
      "source": [
        "### Q4 - Number of Entries per Month\n",
        "\n",
        "The users took the survey between November 2020 and January 2021. Display the total number of submissions per each month.\n",
        "\n",
        "- Calculate the number of entries registered in each month.\n",
        "- Display the result as a bar chart in which the bars are sorted wrt count values.\n",
        " \n",
        "![](https://i.ibb.co/5Fsv0Kb/m.png)\n",
        "\n",
        " *Hint: The dates are stored in a pre-defined format (day-month-year) after Q2.*"
      ]
    },
    {
      "cell_type": "code",
      "metadata": {
        "id": "yDeZWy0vfJBl",
        "colab": {
          "base_uri": "https://localhost:8080/",
          "height": 404
        },
        "outputId": "7c94d66d-aaa9-4b1b-9a6e-95a53b73acf6"
      },
      "source": [
        "# your code\n",
        "nov=0\n",
        "dec=0\n",
        "jan=0\n",
        "a=0\n",
        "for line in uniques:\n",
        "  if \"11-2020\" in line[1]:\n",
        "    nov+=1\n",
        "  if \"12-2020\" in line[1]:\n",
        "    dec+=1\n",
        "  if \"01-2021\" in line[1]:\n",
        "    jan+=1\n",
        "y_values=np.array([jan,dec,nov])\n",
        "x_values=np.array([\"2021-01\",\"2020-12\",\"2020-11\"])\n",
        "plt.figure(figsize=(11,6))\n",
        "plt.barh(x_values,y_values)\n",
        "for y_values,x_values in zip(y_values,x_values):\n",
        "  plt.text(y_values,x_values, f\"{y_values}\", verticalalignment=\"center\", fontsize=10)\n",
        "plt.xlabel(\"# of Records\")\n",
        "plt.title(\"Number of Entries per Month\")\n",
        "\n",
        "\n",
        "plt.show()"
      ],
      "execution_count": null,
      "outputs": [
        {
          "output_type": "display_data",
          "data": {
            "image/png": "[encoded data removed]",
            "text/plain": [
              "<Figure size 792x432 with 1 Axes>"
            ]
          },
          "metadata": {
            "needs_background": "light"
          }
        }
      ]
    },
    {
      "cell_type": "markdown",
      "metadata": {
        "id": "3vUUznH1m2hK"
      },
      "source": [
        "### Q5 - Transforming the Employment Status Column\n",
        "\n",
        "In the survey, the users were asked to provide their education level. Since it was an optional question, some left it empty or prefered not to answer. For the first case, such responses were recored as `Not available`, while the latter as `Prefer not to answer`.\n",
        "\n",
        "In addition, some test takers provided the same answer with slightly different words. For instance, to indicate high school some wrote 'Secondary school/ high school completed', while others simply put 'High school'. To eliminate the inconsistency, we need to replace such entries with a coherent choice. In the dictionary below, keys correspond to the entries that need to be replaced by their associated value.\n",
        "\n",
        "- Replace the given education categories with the provided list.\n",
        "- Remove the rows with `Not available` or `Prefer not to answer` responses.\n",
        "- Finally, print the resulting number of rows and unique education categories .\n",
        "\n",
        "```\n",
        "Number of rows: [...]\n",
        "['High school' 'Post graduate' 'Primary school' 'Technical school' 'University']\n",
        "```"
      ]
    },
    {
      "cell_type": "code",
      "metadata": {
        "id": "XeyXFjMym6j1",
        "colab": {
          "base_uri": "https://localhost:8080/"
        },
        "outputId": "7c917a8d-90db-4e94-8f20-05e3fff1931a"
      },
      "source": [
        "adj_edu = {\n",
        "    'Secondary school/ high school completed': 'High school',\n",
        "    'Secondary/high school': 'High school',\n",
        "    'Some secondary school / high school': 'High school',\n",
        "    'University or college degree completed': 'University',\n",
        "    'Some university or college': 'University',\n",
        "    'College or university': 'University',\n",
        "    'Technical school diploma or degree completed': 'Technical school',\n",
        "    'Some technical education (e.g polytechnic school)': 'Technical school',\n",
        "    'Post-graduate education': 'Post graduate',\n",
        "    'Some primary education': 'Primary school',\n",
        "    'Primary school completed': 'Primary school'\n",
        "}\n",
        "\n",
        "# your code\n",
        "new_array_data=[]\n",
        "unique_edu=[]\n",
        "for line in uniques:\n",
        "  educate=line[4]\n",
        "  if educate==\"Not available\" or educate ==\"Prefer not to answer\":\n",
        "    continue\n",
        "  else:\n",
        "    if educate in adj_edu.keys():\n",
        "      educate=adj_edu[educate]\n",
        "      line[4]=educate\n",
        "      if educate not in unique_edu:\n",
        "        unique_edu.append(educate)\n",
        "    new_array_data.append(line)\n",
        "new_uniques=np.array(new_array_data)\n",
        "line_count=len(new_uniques)\n",
        "print(\"Number of rows:\"+\"[\"+str(line_count)+\"]\")\n",
        "print(sorted(unique_edu))\n",
        "\n"
      ],
      "execution_count": null,
      "outputs": [
        {
          "output_type": "stream",
          "name": "stdout",
          "text": [
            "Number of rows:[6962]\n",
            "['High school', 'Post graduate', 'Primary school', 'Technical school', 'University']\n"
          ]
        }
      ]
    },
    {
      "cell_type": "markdown",
      "metadata": {
        "id": "P2PXxdSEuF9e"
      },
      "source": [
        "### Q6 - Social Distancing & Education\n",
        "\n",
        "Lastly, we want to understand the relationship between education and adherence to social distancing. In the `how_likely_to_social_distance_when_out_in_public` column, there are five different replies, ranged between `'Very unlikely'` to `'Very likely'`. Here, we want to calculate the likelihood of getting `'Very likely'` replies conditioned on education status. In particular, you'll find the education category that maximizes this probability.\n",
        "\n",
        "\n",
        "\n",
        "$\\DeclareMathOperator*{\\argmax}{argmax} \\argmax\\limits_{\\small{edu} \\, \\in \\, \\text{Education Category}}\\;P(\\text{Social Distancing}=\\text{'Very likely'}|\\text{Education Category}=\\text{edu})$\n",
        "\n",
        "- For each education category, calculate the conditional probability above.\n",
        "- Get the one that returns the highest. \n",
        "- At the end, print the education category and its probability value.\n",
        "\n",
        "```\n",
        "Post graduate: [...]\n",
        "```"
      ]
    },
    {
      "cell_type": "code",
      "metadata": {
        "id": "s3fs58kXuLZM",
        "colab": {
          "base_uri": "https://localhost:8080/"
        },
        "outputId": "70cae1e4-722b-4066-ef28-6304810a6a57"
      },
      "source": [
        "# your solution\n",
        "highschool_n=0\n",
        "very_l_high=0\n",
        "Postgraduate_n=0\n",
        "very_l_post=0\n",
        "Primaryschool_n=0\n",
        "very_l_pri=0\n",
        "Technicalschool_n=0\n",
        "very_l_tech=0\n",
        "University_n=0\n",
        "very_l_uni=0\n",
        "total_n=0\n",
        "for line in new_uniques:\n",
        "  if line[4]==\"High school\":\n",
        "    highschool_n += 1\n",
        "    if line[5]==\"Very likely\":\n",
        "      very_l_high += 1\n",
        "  if line[4]==\"Post graduate\":\n",
        "    Postgraduate_n += 1\n",
        "    if line[5]==\"Very likely\":\n",
        "      very_l_post += 1\n",
        "  if line[4]==\"Primary school\":\n",
        "    Primaryschool_n += 1\n",
        "    if line[5]==\"Very likely\":\n",
        "      very_l_pri += 1\n",
        "  if line[4]==\"Technical school\":\n",
        "    Technicalschool_n +=1\n",
        "    if line[5]==\"Very likely\":\n",
        "      very_l_tech += 1\n",
        "  if line[4]==\"University\":\n",
        "    University_n += 1\n",
        "    if line[5]==\"Very likely\":\n",
        "      very_l_uni += 1\n",
        "  total_n += 1\n",
        "#print(highschool_n, Postgraduate_n, Primaryschool_n,Technicalschool_n,University_n,total_n)\n",
        "#print(very_l_high,very_l_post,very_l_pri,very_l_tech,very_l_uni)\n",
        "\n",
        "cond_prob_high=(float(very_l_high)/ highschool_n)\n",
        "cond_prob_post=(float(very_l_post)/ Postgraduate_n)\n",
        "cond_prob_pri=(float(very_l_pri)/ Primaryschool_n)\n",
        "cond_prob_tech=(float(very_l_tech)/ Technicalschool_n)\n",
        "cond_prob_uni =(float(very_l_uni)/ University_n)\n",
        "max_prob=max(cond_prob_high,cond_prob_post,cond_prob_pri,cond_prob_tech,cond_prob_uni)\n",
        "education=\"\"\n",
        "if max_prob==cond_prob_high:\n",
        "  education=\"High school\"\n",
        "if max_prob==cond_prob_post:\n",
        "  education=\"Post graduate\"\n",
        "if max_prob==cond_prob_pri:\n",
        "  education=\"Primary school\"\n",
        "if max_prob==cond_prob_tech:\n",
        "  education=\"Technical school\"\n",
        "if max_prob==cond_prob_uni:\n",
        "  education=\"University\"\n",
        "print(education +\": \"+ \"[\"+str(max_prob)+\"]\")\n",
        "  \n"
      ],
      "execution_count": null,
      "outputs": [
        {
          "output_type": "stream",
          "name": "stdout",
          "text": [
            "Post graduate: [0.5345268542199488]\n"
          ]
        }
      ]
    }
  ]
}